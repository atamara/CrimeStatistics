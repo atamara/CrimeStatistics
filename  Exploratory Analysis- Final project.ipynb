{
 "cells": [
  {
   "cell_type": "code",
   "execution_count": 132,
   "id": "28e5612a",
   "metadata": {},
   "outputs": [],
   "source": [
    "import pandas as pd\n",
    "import numpy as np\n",
    "import matplotlib.pyplot as plt\n",
    "from pylab import *\n",
    "import seaborn as sns\n",
    "%matplotlib inline\n",
    "import  statsmodels.api as sm\n",
    "import statsmodels.stats.api as sms\n",
    "from scipy.stats import boxcox\n",
    "from sklearn.model_selection import KFold\n",
    "from sklearn.model_selection import cross_val_score\n",
    "from sklearn import metrics\n",
    "import matplotlib.pyplot as plt\n",
    "import seaborn as sns\n",
    "color = sns.color_palette()\n",
    "get_ipython().run_line_magic('matplotlib', 'inline')\n",
    "import operator"
   ]
  },
  {
   "cell_type": "code",
   "execution_count": 133,
   "id": "709980a2",
   "metadata": {},
   "outputs": [],
   "source": [
    "hatecrime= pd.read_csv(r'C:\\Users\\osaig\\Downloads\\HateCrimeNoNA.csv',index_col=[0])"
   ]
  },
  {
   "cell_type": "code",
   "execution_count": 134,
   "id": "9a8c8e70",
   "metadata": {},
   "outputs": [
    {
     "data": {
      "text/html": [
       "<div>\n",
       "<style scoped>\n",
       "    .dataframe tbody tr th:only-of-type {\n",
       "        vertical-align: middle;\n",
       "    }\n",
       "\n",
       "    .dataframe tbody tr th {\n",
       "        vertical-align: top;\n",
       "    }\n",
       "\n",
       "    .dataframe thead th {\n",
       "        text-align: right;\n",
       "    }\n",
       "</style>\n",
       "<table border=\"1\" class=\"dataframe\">\n",
       "  <thead>\n",
       "    <tr style=\"text-align: right;\">\n",
       "      <th></th>\n",
       "      <th>Unnamed: 0.1</th>\n",
       "      <th>State</th>\n",
       "      <th>AgencyType</th>\n",
       "      <th>Agency</th>\n",
       "      <th>RaceEthnAnc</th>\n",
       "      <th>Religion</th>\n",
       "      <th>SexualOrientation</th>\n",
       "      <th>Disability</th>\n",
       "      <th>Gender</th>\n",
       "      <th>GenderID</th>\n",
       "      <th>Q1</th>\n",
       "      <th>Q2</th>\n",
       "      <th>Q3</th>\n",
       "      <th>Q4</th>\n",
       "      <th>Population</th>\n",
       "    </tr>\n",
       "  </thead>\n",
       "  <tbody>\n",
       "    <tr>\n",
       "      <th>0</th>\n",
       "      <td>1</td>\n",
       "      <td>Alaska</td>\n",
       "      <td>Cities</td>\n",
       "      <td>Anchorage</td>\n",
       "      <td>4.0</td>\n",
       "      <td>0.0</td>\n",
       "      <td>2.0</td>\n",
       "      <td>0.0</td>\n",
       "      <td>0.0</td>\n",
       "      <td>0.0</td>\n",
       "      <td>1.0</td>\n",
       "      <td>2.0</td>\n",
       "      <td>3.0</td>\n",
       "      <td>0.000000</td>\n",
       "      <td>287731.0</td>\n",
       "    </tr>\n",
       "    <tr>\n",
       "      <th>1</th>\n",
       "      <td>2</td>\n",
       "      <td>Alaska</td>\n",
       "      <td>Cities</td>\n",
       "      <td>Fairbanks</td>\n",
       "      <td>1.0</td>\n",
       "      <td>0.0</td>\n",
       "      <td>0.0</td>\n",
       "      <td>0.0</td>\n",
       "      <td>0.0</td>\n",
       "      <td>0.0</td>\n",
       "      <td>0.0</td>\n",
       "      <td>1.0</td>\n",
       "      <td>0.0</td>\n",
       "      <td>0.000000</td>\n",
       "      <td>31493.0</td>\n",
       "    </tr>\n",
       "    <tr>\n",
       "      <th>2</th>\n",
       "      <td>3</td>\n",
       "      <td>Alaska</td>\n",
       "      <td>Cities</td>\n",
       "      <td>Kotzebue</td>\n",
       "      <td>1.0</td>\n",
       "      <td>0.0</td>\n",
       "      <td>0.0</td>\n",
       "      <td>0.0</td>\n",
       "      <td>0.0</td>\n",
       "      <td>0.0</td>\n",
       "      <td>0.0</td>\n",
       "      <td>0.0</td>\n",
       "      <td>1.0</td>\n",
       "      <td>0.000000</td>\n",
       "      <td>3272.0</td>\n",
       "    </tr>\n",
       "    <tr>\n",
       "      <th>3</th>\n",
       "      <td>4</td>\n",
       "      <td>Alaska</td>\n",
       "      <td>Cities</td>\n",
       "      <td>North Pole</td>\n",
       "      <td>1.0</td>\n",
       "      <td>0.0</td>\n",
       "      <td>0.0</td>\n",
       "      <td>0.0</td>\n",
       "      <td>0.0</td>\n",
       "      <td>0.0</td>\n",
       "      <td>0.0</td>\n",
       "      <td>1.0</td>\n",
       "      <td>0.0</td>\n",
       "      <td>0.875839</td>\n",
       "      <td>2111.0</td>\n",
       "    </tr>\n",
       "    <tr>\n",
       "      <th>4</th>\n",
       "      <td>5</td>\n",
       "      <td>Alaska</td>\n",
       "      <td>Cities</td>\n",
       "      <td>Soldotna</td>\n",
       "      <td>0.0</td>\n",
       "      <td>0.0</td>\n",
       "      <td>2.0</td>\n",
       "      <td>0.0</td>\n",
       "      <td>0.0</td>\n",
       "      <td>0.0</td>\n",
       "      <td>0.0</td>\n",
       "      <td>0.0</td>\n",
       "      <td>0.0</td>\n",
       "      <td>2.000000</td>\n",
       "      <td>4756.0</td>\n",
       "    </tr>\n",
       "  </tbody>\n",
       "</table>\n",
       "</div>"
      ],
      "text/plain": [
       "   Unnamed: 0.1   State AgencyType      Agency  RaceEthnAnc  Religion  \\\n",
       "0             1  Alaska     Cities   Anchorage          4.0       0.0   \n",
       "1             2  Alaska     Cities   Fairbanks          1.0       0.0   \n",
       "2             3  Alaska     Cities    Kotzebue          1.0       0.0   \n",
       "3             4  Alaska     Cities  North Pole          1.0       0.0   \n",
       "4             5  Alaska     Cities    Soldotna          0.0       0.0   \n",
       "\n",
       "   SexualOrientation  Disability  Gender  GenderID   Q1   Q2   Q3        Q4  \\\n",
       "0                2.0         0.0     0.0       0.0  1.0  2.0  3.0  0.000000   \n",
       "1                0.0         0.0     0.0       0.0  0.0  1.0  0.0  0.000000   \n",
       "2                0.0         0.0     0.0       0.0  0.0  0.0  1.0  0.000000   \n",
       "3                0.0         0.0     0.0       0.0  0.0  1.0  0.0  0.875839   \n",
       "4                2.0         0.0     0.0       0.0  0.0  0.0  0.0  2.000000   \n",
       "\n",
       "   Population  \n",
       "0    287731.0  \n",
       "1     31493.0  \n",
       "2      3272.0  \n",
       "3      2111.0  \n",
       "4      4756.0  "
      ]
     },
     "execution_count": 134,
     "metadata": {},
     "output_type": "execute_result"
    }
   ],
   "source": [
    "hatecrime.head()"
   ]
  },
  {
   "cell_type": "code",
   "execution_count": 135,
   "id": "5198ff55",
   "metadata": {},
   "outputs": [],
   "source": [
    "hatecrime = hatecrime.drop(['Disability','GenderID'],axis=1)"
   ]
  },
  {
   "cell_type": "code",
   "execution_count": 136,
   "id": "0659c321",
   "metadata": {},
   "outputs": [
    {
     "data": {
      "text/html": [
       "<div>\n",
       "<style scoped>\n",
       "    .dataframe tbody tr th:only-of-type {\n",
       "        vertical-align: middle;\n",
       "    }\n",
       "\n",
       "    .dataframe tbody tr th {\n",
       "        vertical-align: top;\n",
       "    }\n",
       "\n",
       "    .dataframe thead th {\n",
       "        text-align: right;\n",
       "    }\n",
       "</style>\n",
       "<table border=\"1\" class=\"dataframe\">\n",
       "  <thead>\n",
       "    <tr style=\"text-align: right;\">\n",
       "      <th></th>\n",
       "      <th>Unnamed: 0.1</th>\n",
       "      <th>State</th>\n",
       "      <th>AgencyType</th>\n",
       "      <th>Agency</th>\n",
       "      <th>RaceEthnAnc</th>\n",
       "      <th>Religion</th>\n",
       "      <th>SexualOrientation</th>\n",
       "      <th>Gender</th>\n",
       "      <th>Q1</th>\n",
       "      <th>Q2</th>\n",
       "      <th>Q3</th>\n",
       "      <th>Q4</th>\n",
       "      <th>Population</th>\n",
       "    </tr>\n",
       "  </thead>\n",
       "  <tbody>\n",
       "    <tr>\n",
       "      <th>0</th>\n",
       "      <td>1</td>\n",
       "      <td>Alaska</td>\n",
       "      <td>Cities</td>\n",
       "      <td>Anchorage</td>\n",
       "      <td>4.0</td>\n",
       "      <td>0.0</td>\n",
       "      <td>2.0</td>\n",
       "      <td>0.0</td>\n",
       "      <td>1.0</td>\n",
       "      <td>2.0</td>\n",
       "      <td>3.0</td>\n",
       "      <td>0.000000</td>\n",
       "      <td>287731.0</td>\n",
       "    </tr>\n",
       "    <tr>\n",
       "      <th>1</th>\n",
       "      <td>2</td>\n",
       "      <td>Alaska</td>\n",
       "      <td>Cities</td>\n",
       "      <td>Fairbanks</td>\n",
       "      <td>1.0</td>\n",
       "      <td>0.0</td>\n",
       "      <td>0.0</td>\n",
       "      <td>0.0</td>\n",
       "      <td>0.0</td>\n",
       "      <td>1.0</td>\n",
       "      <td>0.0</td>\n",
       "      <td>0.000000</td>\n",
       "      <td>31493.0</td>\n",
       "    </tr>\n",
       "    <tr>\n",
       "      <th>2</th>\n",
       "      <td>3</td>\n",
       "      <td>Alaska</td>\n",
       "      <td>Cities</td>\n",
       "      <td>Kotzebue</td>\n",
       "      <td>1.0</td>\n",
       "      <td>0.0</td>\n",
       "      <td>0.0</td>\n",
       "      <td>0.0</td>\n",
       "      <td>0.0</td>\n",
       "      <td>0.0</td>\n",
       "      <td>1.0</td>\n",
       "      <td>0.000000</td>\n",
       "      <td>3272.0</td>\n",
       "    </tr>\n",
       "    <tr>\n",
       "      <th>3</th>\n",
       "      <td>4</td>\n",
       "      <td>Alaska</td>\n",
       "      <td>Cities</td>\n",
       "      <td>North Pole</td>\n",
       "      <td>1.0</td>\n",
       "      <td>0.0</td>\n",
       "      <td>0.0</td>\n",
       "      <td>0.0</td>\n",
       "      <td>0.0</td>\n",
       "      <td>1.0</td>\n",
       "      <td>0.0</td>\n",
       "      <td>0.875839</td>\n",
       "      <td>2111.0</td>\n",
       "    </tr>\n",
       "    <tr>\n",
       "      <th>4</th>\n",
       "      <td>5</td>\n",
       "      <td>Alaska</td>\n",
       "      <td>Cities</td>\n",
       "      <td>Soldotna</td>\n",
       "      <td>0.0</td>\n",
       "      <td>0.0</td>\n",
       "      <td>2.0</td>\n",
       "      <td>0.0</td>\n",
       "      <td>0.0</td>\n",
       "      <td>0.0</td>\n",
       "      <td>0.0</td>\n",
       "      <td>2.000000</td>\n",
       "      <td>4756.0</td>\n",
       "    </tr>\n",
       "  </tbody>\n",
       "</table>\n",
       "</div>"
      ],
      "text/plain": [
       "   Unnamed: 0.1   State AgencyType      Agency  RaceEthnAnc  Religion  \\\n",
       "0             1  Alaska     Cities   Anchorage          4.0       0.0   \n",
       "1             2  Alaska     Cities   Fairbanks          1.0       0.0   \n",
       "2             3  Alaska     Cities    Kotzebue          1.0       0.0   \n",
       "3             4  Alaska     Cities  North Pole          1.0       0.0   \n",
       "4             5  Alaska     Cities    Soldotna          0.0       0.0   \n",
       "\n",
       "   SexualOrientation  Gender   Q1   Q2   Q3        Q4  Population  \n",
       "0                2.0     0.0  1.0  2.0  3.0  0.000000    287731.0  \n",
       "1                0.0     0.0  0.0  1.0  0.0  0.000000     31493.0  \n",
       "2                0.0     0.0  0.0  0.0  1.0  0.000000      3272.0  \n",
       "3                0.0     0.0  0.0  1.0  0.0  0.875839      2111.0  \n",
       "4                2.0     0.0  0.0  0.0  0.0  2.000000      4756.0  "
      ]
     },
     "execution_count": 136,
     "metadata": {},
     "output_type": "execute_result"
    }
   ],
   "source": [
    "hatecrime.head()"
   ]
  },
  {
   "cell_type": "code",
   "execution_count": 137,
   "id": "addbcd15",
   "metadata": {},
   "outputs": [],
   "source": [
    "hatecrime.rename( columns={'Unnamed: 0.1':'Numbered', }, inplace=True )"
   ]
  },
  {
   "cell_type": "code",
   "execution_count": 138,
   "id": "7f0be0dd",
   "metadata": {},
   "outputs": [
    {
     "name": "stdout",
     "output_type": "stream",
     "text": [
      "<class 'pandas.core.frame.DataFrame'>\n",
      "Int64Index: 2175 entries, 0 to 2174\n",
      "Data columns (total 13 columns):\n",
      " #   Column             Non-Null Count  Dtype  \n",
      "---  ------             --------------  -----  \n",
      " 0   Numbered           2175 non-null   int64  \n",
      " 1   State              2167 non-null   object \n",
      " 2   AgencyType         2173 non-null   object \n",
      " 3   Agency             2173 non-null   object \n",
      " 4   RaceEthnAnc        2175 non-null   float64\n",
      " 5   Religion           2175 non-null   float64\n",
      " 6   SexualOrientation  2175 non-null   float64\n",
      " 7   Gender             2175 non-null   float64\n",
      " 8   Q1                 2175 non-null   float64\n",
      " 9   Q2                 2175 non-null   float64\n",
      " 10  Q3                 2175 non-null   float64\n",
      " 11  Q4                 2175 non-null   float64\n",
      " 12  Population         2175 non-null   float64\n",
      "dtypes: float64(9), int64(1), object(3)\n",
      "memory usage: 212.4+ KB\n"
     ]
    }
   ],
   "source": [
    "hatecrime.info()"
   ]
  },
  {
   "cell_type": "markdown",
   "id": "2b9b289a",
   "metadata": {},
   "source": [
    "### hatecrime.count()  that does not include number or unnamed values"
   ]
  },
  {
   "cell_type": "code",
   "execution_count": 139,
   "id": "9d64e862",
   "metadata": {},
   "outputs": [
    {
     "name": "stdout",
     "output_type": "stream",
     "text": [
      "List of dropped columns: Numbered, \n",
      "\n"
     ]
    }
   ],
   "source": [
    "\n",
    "hatecrime2 = hatecrime[[column for column in hatecrime if hatecrime[column].count() / len(hatecrime) >= 0.3]]\n",
    "del hatecrime2['Numbered']\n",
    "print(\"List of dropped columns:\", end=\" \")\n",
    "for c in hatecrime.columns:\n",
    "    if c not in hatecrime2.columns:\n",
    "        print(c, end=\", \")\n",
    "print('\\n')\n",
    "hatecrime = hatecrime2"
   ]
  },
  {
   "cell_type": "markdown",
   "id": "0fce682d",
   "metadata": {},
   "source": [
    "### We will check the population\n"
   ]
  },
  {
   "cell_type": "code",
   "execution_count": 140,
   "id": "63b4035e",
   "metadata": {},
   "outputs": [
    {
     "name": "stdout",
     "output_type": "stream",
     "text": [
      "count    2.175000e+03\n",
      "mean     7.670352e+04\n",
      "std      2.450931e+05\n",
      "min      2.140000e+02\n",
      "25%      1.497350e+04\n",
      "50%      4.641800e+04\n",
      "75%      7.670352e+04\n",
      "max      8.379043e+06\n",
      "Name: Population, dtype: float64\n"
     ]
    },
    {
     "name": "stderr",
     "output_type": "stream",
     "text": [
      "C:\\Users\\osaig\\anaconda3\\lib\\site-packages\\seaborn\\distributions.py:2557: FutureWarning: `distplot` is a deprecated function and will be removed in a future version. Please adapt your code to use either `displot` (a figure-level function with similar flexibility) or `histplot` (an axes-level function for histograms).\n",
      "  warnings.warn(msg, FutureWarning)\n"
     ]
    },
    {
     "data": {
      "image/png": "[encoded data removed]",
      "text/plain": [
       "<Figure size 648x576 with 1 Axes>"
      ]
     },
     "metadata": {
      "needs_background": "light"
     },
     "output_type": "display_data"
    }
   ],
   "source": [
    "print(hatecrime['Population'].describe())\n",
    "plt.figure(figsize=(9, 8))\n",
    "sns.distplot(hatecrime['Population'], color='b', bins=100, hist_kws={'alpha': 0.4});"
   ]
  },
  {
   "cell_type": "code",
   "execution_count": 141,
   "id": "826a678e",
   "metadata": {},
   "outputs": [
    {
     "data": {
      "text/plain": [
       "[dtype('O'), dtype('float64')]"
      ]
     },
     "execution_count": 141,
     "metadata": {},
     "output_type": "execute_result"
    }
   ],
   "source": [
    "list(set(hatecrime.dtypes.tolist()))"
   ]
  },
  {
   "cell_type": "markdown",
   "id": "98f05642",
   "metadata": {},
   "source": [
    "### Check Data"
   ]
  },
  {
   "cell_type": "code",
   "execution_count": 142,
   "id": "45e994be",
   "metadata": {},
   "outputs": [
    {
     "data": {
      "text/html": [
       "<div>\n",
       "<style scoped>\n",
       "    .dataframe tbody tr th:only-of-type {\n",
       "        vertical-align: middle;\n",
       "    }\n",
       "\n",
       "    .dataframe tbody tr th {\n",
       "        vertical-align: top;\n",
       "    }\n",
       "\n",
       "    .dataframe thead th {\n",
       "        text-align: right;\n",
       "    }\n",
       "</style>\n",
       "<table border=\"1\" class=\"dataframe\">\n",
       "  <thead>\n",
       "    <tr style=\"text-align: right;\">\n",
       "      <th></th>\n",
       "      <th>State</th>\n",
       "      <th>AgencyType</th>\n",
       "      <th>Agency</th>\n",
       "      <th>RaceEthnAnc</th>\n",
       "      <th>Religion</th>\n",
       "      <th>SexualOrientation</th>\n",
       "      <th>Gender</th>\n",
       "      <th>Q1</th>\n",
       "      <th>Q2</th>\n",
       "      <th>Q3</th>\n",
       "      <th>Q4</th>\n",
       "      <th>Population</th>\n",
       "    </tr>\n",
       "  </thead>\n",
       "  <tbody>\n",
       "    <tr>\n",
       "      <th>0</th>\n",
       "      <td>Alaska</td>\n",
       "      <td>Cities</td>\n",
       "      <td>Anchorage</td>\n",
       "      <td>4.0</td>\n",
       "      <td>0.0</td>\n",
       "      <td>2.0</td>\n",
       "      <td>0.0</td>\n",
       "      <td>1.0</td>\n",
       "      <td>2.0</td>\n",
       "      <td>3.0</td>\n",
       "      <td>0.000000</td>\n",
       "      <td>287731.0</td>\n",
       "    </tr>\n",
       "    <tr>\n",
       "      <th>1</th>\n",
       "      <td>Alaska</td>\n",
       "      <td>Cities</td>\n",
       "      <td>Fairbanks</td>\n",
       "      <td>1.0</td>\n",
       "      <td>0.0</td>\n",
       "      <td>0.0</td>\n",
       "      <td>0.0</td>\n",
       "      <td>0.0</td>\n",
       "      <td>1.0</td>\n",
       "      <td>0.0</td>\n",
       "      <td>0.000000</td>\n",
       "      <td>31493.0</td>\n",
       "    </tr>\n",
       "    <tr>\n",
       "      <th>2</th>\n",
       "      <td>Alaska</td>\n",
       "      <td>Cities</td>\n",
       "      <td>Kotzebue</td>\n",
       "      <td>1.0</td>\n",
       "      <td>0.0</td>\n",
       "      <td>0.0</td>\n",
       "      <td>0.0</td>\n",
       "      <td>0.0</td>\n",
       "      <td>0.0</td>\n",
       "      <td>1.0</td>\n",
       "      <td>0.000000</td>\n",
       "      <td>3272.0</td>\n",
       "    </tr>\n",
       "    <tr>\n",
       "      <th>3</th>\n",
       "      <td>Alaska</td>\n",
       "      <td>Cities</td>\n",
       "      <td>North Pole</td>\n",
       "      <td>1.0</td>\n",
       "      <td>0.0</td>\n",
       "      <td>0.0</td>\n",
       "      <td>0.0</td>\n",
       "      <td>0.0</td>\n",
       "      <td>1.0</td>\n",
       "      <td>0.0</td>\n",
       "      <td>0.875839</td>\n",
       "      <td>2111.0</td>\n",
       "    </tr>\n",
       "    <tr>\n",
       "      <th>4</th>\n",
       "      <td>Alaska</td>\n",
       "      <td>Cities</td>\n",
       "      <td>Soldotna</td>\n",
       "      <td>0.0</td>\n",
       "      <td>0.0</td>\n",
       "      <td>2.0</td>\n",
       "      <td>0.0</td>\n",
       "      <td>0.0</td>\n",
       "      <td>0.0</td>\n",
       "      <td>0.0</td>\n",
       "      <td>2.000000</td>\n",
       "      <td>4756.0</td>\n",
       "    </tr>\n",
       "  </tbody>\n",
       "</table>\n",
       "</div>"
      ],
      "text/plain": [
       "    State AgencyType      Agency  RaceEthnAnc  Religion  SexualOrientation  \\\n",
       "0  Alaska     Cities   Anchorage          4.0       0.0                2.0   \n",
       "1  Alaska     Cities   Fairbanks          1.0       0.0                0.0   \n",
       "2  Alaska     Cities    Kotzebue          1.0       0.0                0.0   \n",
       "3  Alaska     Cities  North Pole          1.0       0.0                0.0   \n",
       "4  Alaska     Cities    Soldotna          0.0       0.0                2.0   \n",
       "\n",
       "   Gender   Q1   Q2   Q3        Q4  Population  \n",
       "0     0.0  1.0  2.0  3.0  0.000000    287731.0  \n",
       "1     0.0  0.0  1.0  0.0  0.000000     31493.0  \n",
       "2     0.0  0.0  0.0  1.0  0.000000      3272.0  \n",
       "3     0.0  0.0  1.0  0.0  0.875839      2111.0  \n",
       "4     0.0  0.0  0.0  0.0  2.000000      4756.0  "
      ]
     },
     "execution_count": 142,
     "metadata": {},
     "output_type": "execute_result"
    }
   ],
   "source": [
    "hatecrime_num = hatecrime.select_dtypes(include = ['float64', 'int64', 'object'])\n",
    "hatecrime_num.head()"
   ]
  },
  {
   "cell_type": "markdown",
   "id": "9586bfc2",
   "metadata": {},
   "source": [
    "### Plotting all the colmns"
   ]
  },
  {
   "cell_type": "code",
   "execution_count": 143,
   "id": "85b650b9",
   "metadata": {},
   "outputs": [
    {
     "data": {
      "text/plain": [
       "array([[<AxesSubplot:title={'center':'RaceEthnAnc'}>,\n",
       "        <AxesSubplot:title={'center':'Religion'}>,\n",
       "        <AxesSubplot:title={'center':'SexualOrientation'}>],\n",
       "       [<AxesSubplot:title={'center':'Gender'}>,\n",
       "        <AxesSubplot:title={'center':'Q1'}>,\n",
       "        <AxesSubplot:title={'center':'Q2'}>],\n",
       "       [<AxesSubplot:title={'center':'Q3'}>,\n",
       "        <AxesSubplot:title={'center':'Q4'}>,\n",
       "        <AxesSubplot:title={'center':'Population'}>]], dtype=object)"
      ]
     },
     "execution_count": 143,
     "metadata": {},
     "output_type": "execute_result"
    },
    {
     "data": {
      "image/png": "[encoded data removed]",
      "text/plain": [
       "<Figure size 1440x1440 with 9 Axes>"
      ]
     },
     "metadata": {
      "needs_background": "light"
     },
     "output_type": "display_data"
    }
   ],
   "source": [
    "hatecrime_num.hist(figsize=(20, 20), bins=30, xlabelsize=15, ylabelsize=15)"
   ]
  },
  {
   "cell_type": "markdown",
   "id": "d1e8778d",
   "metadata": {},
   "source": [
    "### Correlation "
   ]
  },
  {
   "cell_type": "code",
   "execution_count": 144,
   "id": "478c1d7e",
   "metadata": {},
   "outputs": [
    {
     "data": {
      "text/html": [
       "<div>\n",
       "<style scoped>\n",
       "    .dataframe tbody tr th:only-of-type {\n",
       "        vertical-align: middle;\n",
       "    }\n",
       "\n",
       "    .dataframe tbody tr th {\n",
       "        vertical-align: top;\n",
       "    }\n",
       "\n",
       "    .dataframe thead th {\n",
       "        text-align: right;\n",
       "    }\n",
       "</style>\n",
       "<table border=\"1\" class=\"dataframe\">\n",
       "  <thead>\n",
       "    <tr style=\"text-align: right;\">\n",
       "      <th></th>\n",
       "      <th>RaceEthnAnc</th>\n",
       "      <th>Religion</th>\n",
       "      <th>SexualOrientation</th>\n",
       "      <th>Gender</th>\n",
       "      <th>Q1</th>\n",
       "      <th>Q2</th>\n",
       "      <th>Q3</th>\n",
       "      <th>Q4</th>\n",
       "      <th>Population</th>\n",
       "    </tr>\n",
       "  </thead>\n",
       "  <tbody>\n",
       "    <tr>\n",
       "      <th>RaceEthnAnc</th>\n",
       "      <td>1.000000</td>\n",
       "      <td>0.489732</td>\n",
       "      <td>0.915044</td>\n",
       "      <td>0.411167</td>\n",
       "      <td>0.824297</td>\n",
       "      <td>0.909156</td>\n",
       "      <td>0.918140</td>\n",
       "      <td>0.844158</td>\n",
       "      <td>0.551416</td>\n",
       "    </tr>\n",
       "    <tr>\n",
       "      <th>Religion</th>\n",
       "      <td>0.489732</td>\n",
       "      <td>1.000000</td>\n",
       "      <td>0.560629</td>\n",
       "      <td>0.066860</td>\n",
       "      <td>0.833738</td>\n",
       "      <td>0.726035</td>\n",
       "      <td>0.695208</td>\n",
       "      <td>0.822978</td>\n",
       "      <td>0.824479</td>\n",
       "    </tr>\n",
       "    <tr>\n",
       "      <th>SexualOrientation</th>\n",
       "      <td>0.915044</td>\n",
       "      <td>0.560629</td>\n",
       "      <td>1.000000</td>\n",
       "      <td>0.342446</td>\n",
       "      <td>0.850199</td>\n",
       "      <td>0.921509</td>\n",
       "      <td>0.935365</td>\n",
       "      <td>0.846307</td>\n",
       "      <td>0.615071</td>\n",
       "    </tr>\n",
       "    <tr>\n",
       "      <th>Gender</th>\n",
       "      <td>0.411167</td>\n",
       "      <td>0.066860</td>\n",
       "      <td>0.342446</td>\n",
       "      <td>1.000000</td>\n",
       "      <td>0.251944</td>\n",
       "      <td>0.319653</td>\n",
       "      <td>0.342674</td>\n",
       "      <td>0.318787</td>\n",
       "      <td>0.073919</td>\n",
       "    </tr>\n",
       "    <tr>\n",
       "      <th>Q1</th>\n",
       "      <td>0.824297</td>\n",
       "      <td>0.833738</td>\n",
       "      <td>0.850199</td>\n",
       "      <td>0.251944</td>\n",
       "      <td>1.000000</td>\n",
       "      <td>0.911347</td>\n",
       "      <td>0.893693</td>\n",
       "      <td>0.913530</td>\n",
       "      <td>0.791903</td>\n",
       "    </tr>\n",
       "    <tr>\n",
       "      <th>Q2</th>\n",
       "      <td>0.909156</td>\n",
       "      <td>0.726035</td>\n",
       "      <td>0.921509</td>\n",
       "      <td>0.319653</td>\n",
       "      <td>0.911347</td>\n",
       "      <td>1.000000</td>\n",
       "      <td>0.930581</td>\n",
       "      <td>0.897135</td>\n",
       "      <td>0.713097</td>\n",
       "    </tr>\n",
       "    <tr>\n",
       "      <th>Q3</th>\n",
       "      <td>0.918140</td>\n",
       "      <td>0.695208</td>\n",
       "      <td>0.935365</td>\n",
       "      <td>0.342674</td>\n",
       "      <td>0.893693</td>\n",
       "      <td>0.930581</td>\n",
       "      <td>1.000000</td>\n",
       "      <td>0.904579</td>\n",
       "      <td>0.703482</td>\n",
       "    </tr>\n",
       "    <tr>\n",
       "      <th>Q4</th>\n",
       "      <td>0.844158</td>\n",
       "      <td>0.822978</td>\n",
       "      <td>0.846307</td>\n",
       "      <td>0.318787</td>\n",
       "      <td>0.913530</td>\n",
       "      <td>0.897135</td>\n",
       "      <td>0.904579</td>\n",
       "      <td>1.000000</td>\n",
       "      <td>0.765684</td>\n",
       "    </tr>\n",
       "    <tr>\n",
       "      <th>Population</th>\n",
       "      <td>0.551416</td>\n",
       "      <td>0.824479</td>\n",
       "      <td>0.615071</td>\n",
       "      <td>0.073919</td>\n",
       "      <td>0.791903</td>\n",
       "      <td>0.713097</td>\n",
       "      <td>0.703482</td>\n",
       "      <td>0.765684</td>\n",
       "      <td>1.000000</td>\n",
       "    </tr>\n",
       "  </tbody>\n",
       "</table>\n",
       "</div>"
      ],
      "text/plain": [
       "                   RaceEthnAnc  Religion  SexualOrientation    Gender  \\\n",
       "RaceEthnAnc           1.000000  0.489732           0.915044  0.411167   \n",
       "Religion              0.489732  1.000000           0.560629  0.066860   \n",
       "SexualOrientation     0.915044  0.560629           1.000000  0.342446   \n",
       "Gender                0.411167  0.066860           0.342446  1.000000   \n",
       "Q1                    0.824297  0.833738           0.850199  0.251944   \n",
       "Q2                    0.909156  0.726035           0.921509  0.319653   \n",
       "Q3                    0.918140  0.695208           0.935365  0.342674   \n",
       "Q4                    0.844158  0.822978           0.846307  0.318787   \n",
       "Population            0.551416  0.824479           0.615071  0.073919   \n",
       "\n",
       "                         Q1        Q2        Q3        Q4  Population  \n",
       "RaceEthnAnc        0.824297  0.909156  0.918140  0.844158    0.551416  \n",
       "Religion           0.833738  0.726035  0.695208  0.822978    0.824479  \n",
       "SexualOrientation  0.850199  0.921509  0.935365  0.846307    0.615071  \n",
       "Gender             0.251944  0.319653  0.342674  0.318787    0.073919  \n",
       "Q1                 1.000000  0.911347  0.893693  0.913530    0.791903  \n",
       "Q2                 0.911347  1.000000  0.930581  0.897135    0.713097  \n",
       "Q3                 0.893693  0.930581  1.000000  0.904579    0.703482  \n",
       "Q4                 0.913530  0.897135  0.904579  1.000000    0.765684  \n",
       "Population         0.791903  0.713097  0.703482  0.765684    1.000000  "
      ]
     },
     "execution_count": 144,
     "metadata": {},
     "output_type": "execute_result"
    }
   ],
   "source": [
    "hatecrime.corr()"
   ]
  },
  {
   "cell_type": "code",
   "execution_count": 146,
   "id": "9dcd1ba8",
   "metadata": {},
   "outputs": [
    {
     "data": {
      "image/png": "[encoded data removed]",
      "text/plain": [
       "<Figure size 900x180 with 5 Axes>"
      ]
     },
     "metadata": {
      "needs_background": "light"
     },
     "output_type": "display_data"
    },
    {
     "data": {
      "image/png": "[encoded data removed]",
      "text/plain": [
       "<Figure size 900x180 with 5 Axes>"
      ]
     },
     "metadata": {
      "needs_background": "light"
     },
     "output_type": "display_data"
    },
    {
     "data": {
      "image/png": "[encoded data removed]",
      "text/plain": [
       "<Figure size 360x180 with 3 Axes>"
      ]
     },
     "metadata": {
      "needs_background": "light"
     },
     "output_type": "display_data"
    }
   ],
   "source": [
    "for i in range(0, len(hatecrime_num.columns), 5):\n",
    "    sns.pairplot(data=hatecrime_num,\n",
    "                x_vars=hatecrime_num.columns[i:i+5],\n",
    "                y_vars=['Population'])"
   ]
  },
  {
   "cell_type": "code",
   "execution_count": null,
   "id": "2d7c7f29",
   "metadata": {},
   "outputs": [],
   "source": []
  }
 ],
 "metadata": {
  "kernelspec": {
   "display_name": "Python 3",
   "language": "python",
   "name": "python3"
  },
  "language_info": {
   "codemirror_mode": {
    "name": "ipython",
    "version": 3
   },
   "file_extension": ".py",
   "mimetype": "text/x-python",
   "name": "python",
   "nbconvert_exporter": "python",
   "pygments_lexer": "ipython3",
   "version": "3.8.8"
  }
 },
 "nbformat": 4,
 "nbformat_minor": 5
}
